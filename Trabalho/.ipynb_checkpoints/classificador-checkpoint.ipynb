{
 "cells": [
  {
   "cell_type": "code",
   "execution_count": 1,
   "id": "7d4261d7-1c60-45a8-a981-945cd873ff34",
   "metadata": {},
   "outputs": [],
   "source": [
    "import pandas as pd\n",
    "import numpy as np \n",
    "import seaborn as sns\n",
    "from sklearn.impute import SimpleImputer\n",
    "from sklearn.compose import ColumnTransformer\n",
    "from sklearn.preprocessing import OrdinalEncoder, OneHotEncoder, StandardScaler\n",
    "from sklearn.decomposition import PCA\n",
    "from sklearn.neighbors import KNeighborsClassifier\n",
    "from sklearn.model_selection import train_test_split, GridSearchCV\n",
    "from sklearn.metrics import accuracy_score, f1_score, classification_report, plot_confusion_matrix\n",
    "from sklearn.model_selection import StratifiedKFold\n",
    "from sklearn.svm import SVC\n",
    "from utils import do_cv_knn, do_cv_svm, dupla_cv, do_cv_ad"
   ]
  },
  {
   "cell_type": "markdown",
   "id": "b5c29908-75c6-41cc-8587-85783d4851af",
   "metadata": {},
   "source": [
    "### 1 - Limpeza na base de dados.\n",
    "Inicialmente foi preciso limpar a base de dados, como ela possui dados faltantes, em vez de descartá-las, decidi preenchê-las com alguma regra, desse modo, para o atributo de \"Idade\", foi feito uma imputação, preenchendo os dados faltantes com a moda dos dados, e para os atributo de \"Embarcação\", foi feito uma imputação, preenchendo os dados faltantes como a moda também. Embora haja dados faltantes no atributo \"Cabine\", não realizei a imputação, pois é um atributo que irei remover do meu <em>dataframe</em>, além de também remover outros atributos que não irei usar no classificador, como: Name, PassengerId, Ticket, Cabin e Fare.\n"
   ]
  },
  {
   "cell_type": "code",
   "execution_count": 2,
   "id": "f7deb225-d262-4617-9713-390138554d81",
   "metadata": {},
   "outputs": [
    {
     "data": {
      "text/html": [
       "<div>\n",
       "<style scoped>\n",
       "    .dataframe tbody tr th:only-of-type {\n",
       "        vertical-align: middle;\n",
       "    }\n",
       "\n",
       "    .dataframe tbody tr th {\n",
       "        vertical-align: top;\n",
       "    }\n",
       "\n",
       "    .dataframe thead th {\n",
       "        text-align: right;\n",
       "    }\n",
       "</style>\n",
       "<table border=\"1\" class=\"dataframe\">\n",
       "  <thead>\n",
       "    <tr style=\"text-align: right;\">\n",
       "      <th></th>\n",
       "      <th>Pclass</th>\n",
       "      <th>Sex</th>\n",
       "      <th>Age</th>\n",
       "      <th>SibSp</th>\n",
       "      <th>Parch</th>\n",
       "      <th>Embarked</th>\n",
       "    </tr>\n",
       "  </thead>\n",
       "  <tbody>\n",
       "    <tr>\n",
       "      <th>0</th>\n",
       "      <td>3</td>\n",
       "      <td>male</td>\n",
       "      <td>22.0</td>\n",
       "      <td>1</td>\n",
       "      <td>0</td>\n",
       "      <td>S</td>\n",
       "    </tr>\n",
       "    <tr>\n",
       "      <th>1</th>\n",
       "      <td>1</td>\n",
       "      <td>female</td>\n",
       "      <td>38.0</td>\n",
       "      <td>1</td>\n",
       "      <td>0</td>\n",
       "      <td>C</td>\n",
       "    </tr>\n",
       "    <tr>\n",
       "      <th>2</th>\n",
       "      <td>3</td>\n",
       "      <td>female</td>\n",
       "      <td>26.0</td>\n",
       "      <td>0</td>\n",
       "      <td>0</td>\n",
       "      <td>S</td>\n",
       "    </tr>\n",
       "    <tr>\n",
       "      <th>3</th>\n",
       "      <td>1</td>\n",
       "      <td>female</td>\n",
       "      <td>35.0</td>\n",
       "      <td>1</td>\n",
       "      <td>0</td>\n",
       "      <td>S</td>\n",
       "    </tr>\n",
       "    <tr>\n",
       "      <th>4</th>\n",
       "      <td>3</td>\n",
       "      <td>male</td>\n",
       "      <td>35.0</td>\n",
       "      <td>0</td>\n",
       "      <td>0</td>\n",
       "      <td>S</td>\n",
       "    </tr>\n",
       "    <tr>\n",
       "      <th>...</th>\n",
       "      <td>...</td>\n",
       "      <td>...</td>\n",
       "      <td>...</td>\n",
       "      <td>...</td>\n",
       "      <td>...</td>\n",
       "      <td>...</td>\n",
       "    </tr>\n",
       "    <tr>\n",
       "      <th>886</th>\n",
       "      <td>2</td>\n",
       "      <td>male</td>\n",
       "      <td>27.0</td>\n",
       "      <td>0</td>\n",
       "      <td>0</td>\n",
       "      <td>S</td>\n",
       "    </tr>\n",
       "    <tr>\n",
       "      <th>887</th>\n",
       "      <td>1</td>\n",
       "      <td>female</td>\n",
       "      <td>19.0</td>\n",
       "      <td>0</td>\n",
       "      <td>0</td>\n",
       "      <td>S</td>\n",
       "    </tr>\n",
       "    <tr>\n",
       "      <th>888</th>\n",
       "      <td>3</td>\n",
       "      <td>female</td>\n",
       "      <td>NaN</td>\n",
       "      <td>1</td>\n",
       "      <td>2</td>\n",
       "      <td>S</td>\n",
       "    </tr>\n",
       "    <tr>\n",
       "      <th>889</th>\n",
       "      <td>1</td>\n",
       "      <td>male</td>\n",
       "      <td>26.0</td>\n",
       "      <td>0</td>\n",
       "      <td>0</td>\n",
       "      <td>C</td>\n",
       "    </tr>\n",
       "    <tr>\n",
       "      <th>890</th>\n",
       "      <td>3</td>\n",
       "      <td>male</td>\n",
       "      <td>32.0</td>\n",
       "      <td>0</td>\n",
       "      <td>0</td>\n",
       "      <td>Q</td>\n",
       "    </tr>\n",
       "  </tbody>\n",
       "</table>\n",
       "<p>891 rows × 6 columns</p>\n",
       "</div>"
      ],
      "text/plain": [
       "     Pclass     Sex   Age  SibSp  Parch Embarked\n",
       "0         3    male  22.0      1      0        S\n",
       "1         1  female  38.0      1      0        C\n",
       "2         3  female  26.0      0      0        S\n",
       "3         1  female  35.0      1      0        S\n",
       "4         3    male  35.0      0      0        S\n",
       "..      ...     ...   ...    ...    ...      ...\n",
       "886       2    male  27.0      0      0        S\n",
       "887       1  female  19.0      0      0        S\n",
       "888       3  female   NaN      1      2        S\n",
       "889       1    male  26.0      0      0        C\n",
       "890       3    male  32.0      0      0        Q\n",
       "\n",
       "[891 rows x 6 columns]"
      ]
     },
     "execution_count": 2,
     "metadata": {},
     "output_type": "execute_result"
    }
   ],
   "source": [
    "df = pd.read_csv('train.csv')\n",
    "y = df[['Survived']].values.ravel()\n",
    "X = df.drop(['Survived', 'Name', 'PassengerId', 'Ticket', 'Cabin', 'Fare'], axis=1)\n",
    "#df.isnull().sum()\n",
    "X"
   ]
  },
  {
   "cell_type": "code",
   "execution_count": 3,
   "id": "935653ae-e0e3-4dff-a7a3-a727292e8842",
   "metadata": {},
   "outputs": [],
   "source": [
    "# Imputer of columns: Age\n",
    "\n",
    "atributos_numericos = ['Age']\n",
    "\n",
    "transformers = [\n",
    "    ('imputer', SimpleImputer(strategy='most_frequent'), atributos_numericos)\n",
    "]\n",
    "\n",
    "# ct = Column Tranformer\n",
    "# drop the others columns\n",
    "ct_num = ColumnTransformer(transformers, remainder='drop')\n",
    "\n",
    "X_num = ct_num.fit_transform(X)"
   ]
  },
  {
   "cell_type": "code",
   "execution_count": 4,
   "id": "607f3ad0-ec5f-40a5-a1f8-0530337af120",
   "metadata": {},
   "outputs": [],
   "source": [
    "# Imputer of columns: Embarked\n",
    "\n",
    "atributos_string = ['Embarked']\n",
    "\n",
    "transformers = [\n",
    "    ('imputer', SimpleImputer(strategy='most_frequent'), atributos_string)\n",
    "]\n",
    "\n",
    "# ct = Column Tranformer\n",
    "# drop the others columns\n",
    "ct_str = ColumnTransformer(transformers, remainder='drop')\n",
    "\n",
    "X_str = ct_str.fit_transform(X)"
   ]
  },
  {
   "cell_type": "code",
   "execution_count": 5,
   "id": "19830915-0183-41a2-8b48-3bbd2879f7a6",
   "metadata": {},
   "outputs": [
    {
     "data": {
      "text/html": [
       "<div>\n",
       "<style scoped>\n",
       "    .dataframe tbody tr th:only-of-type {\n",
       "        vertical-align: middle;\n",
       "    }\n",
       "\n",
       "    .dataframe tbody tr th {\n",
       "        vertical-align: top;\n",
       "    }\n",
       "\n",
       "    .dataframe thead th {\n",
       "        text-align: right;\n",
       "    }\n",
       "</style>\n",
       "<table border=\"1\" class=\"dataframe\">\n",
       "  <thead>\n",
       "    <tr style=\"text-align: right;\">\n",
       "      <th></th>\n",
       "      <th>Pclass</th>\n",
       "      <th>Sex</th>\n",
       "      <th>Age</th>\n",
       "      <th>SibSp</th>\n",
       "      <th>Parch</th>\n",
       "      <th>Embarked</th>\n",
       "    </tr>\n",
       "  </thead>\n",
       "  <tbody>\n",
       "    <tr>\n",
       "      <th>0</th>\n",
       "      <td>3</td>\n",
       "      <td>male</td>\n",
       "      <td>22.0</td>\n",
       "      <td>1</td>\n",
       "      <td>0</td>\n",
       "      <td>S</td>\n",
       "    </tr>\n",
       "    <tr>\n",
       "      <th>1</th>\n",
       "      <td>1</td>\n",
       "      <td>female</td>\n",
       "      <td>38.0</td>\n",
       "      <td>1</td>\n",
       "      <td>0</td>\n",
       "      <td>C</td>\n",
       "    </tr>\n",
       "    <tr>\n",
       "      <th>2</th>\n",
       "      <td>3</td>\n",
       "      <td>female</td>\n",
       "      <td>26.0</td>\n",
       "      <td>0</td>\n",
       "      <td>0</td>\n",
       "      <td>S</td>\n",
       "    </tr>\n",
       "    <tr>\n",
       "      <th>3</th>\n",
       "      <td>1</td>\n",
       "      <td>female</td>\n",
       "      <td>35.0</td>\n",
       "      <td>1</td>\n",
       "      <td>0</td>\n",
       "      <td>S</td>\n",
       "    </tr>\n",
       "    <tr>\n",
       "      <th>4</th>\n",
       "      <td>3</td>\n",
       "      <td>male</td>\n",
       "      <td>35.0</td>\n",
       "      <td>0</td>\n",
       "      <td>0</td>\n",
       "      <td>S</td>\n",
       "    </tr>\n",
       "    <tr>\n",
       "      <th>...</th>\n",
       "      <td>...</td>\n",
       "      <td>...</td>\n",
       "      <td>...</td>\n",
       "      <td>...</td>\n",
       "      <td>...</td>\n",
       "      <td>...</td>\n",
       "    </tr>\n",
       "    <tr>\n",
       "      <th>886</th>\n",
       "      <td>2</td>\n",
       "      <td>male</td>\n",
       "      <td>27.0</td>\n",
       "      <td>0</td>\n",
       "      <td>0</td>\n",
       "      <td>S</td>\n",
       "    </tr>\n",
       "    <tr>\n",
       "      <th>887</th>\n",
       "      <td>1</td>\n",
       "      <td>female</td>\n",
       "      <td>19.0</td>\n",
       "      <td>0</td>\n",
       "      <td>0</td>\n",
       "      <td>S</td>\n",
       "    </tr>\n",
       "    <tr>\n",
       "      <th>888</th>\n",
       "      <td>3</td>\n",
       "      <td>female</td>\n",
       "      <td>24.0</td>\n",
       "      <td>1</td>\n",
       "      <td>2</td>\n",
       "      <td>S</td>\n",
       "    </tr>\n",
       "    <tr>\n",
       "      <th>889</th>\n",
       "      <td>1</td>\n",
       "      <td>male</td>\n",
       "      <td>26.0</td>\n",
       "      <td>0</td>\n",
       "      <td>0</td>\n",
       "      <td>C</td>\n",
       "    </tr>\n",
       "    <tr>\n",
       "      <th>890</th>\n",
       "      <td>3</td>\n",
       "      <td>male</td>\n",
       "      <td>32.0</td>\n",
       "      <td>0</td>\n",
       "      <td>0</td>\n",
       "      <td>Q</td>\n",
       "    </tr>\n",
       "  </tbody>\n",
       "</table>\n",
       "<p>891 rows × 6 columns</p>\n",
       "</div>"
      ],
      "text/plain": [
       "     Pclass     Sex   Age  SibSp  Parch Embarked\n",
       "0         3    male  22.0      1      0        S\n",
       "1         1  female  38.0      1      0        C\n",
       "2         3  female  26.0      0      0        S\n",
       "3         1  female  35.0      1      0        S\n",
       "4         3    male  35.0      0      0        S\n",
       "..      ...     ...   ...    ...    ...      ...\n",
       "886       2    male  27.0      0      0        S\n",
       "887       1  female  19.0      0      0        S\n",
       "888       3  female  24.0      1      2        S\n",
       "889       1    male  26.0      0      0        C\n",
       "890       3    male  32.0      0      0        Q\n",
       "\n",
       "[891 rows x 6 columns]"
      ]
     },
     "execution_count": 5,
     "metadata": {},
     "output_type": "execute_result"
    }
   ],
   "source": [
    "X_imputed = pd.DataFrame(np.hstack((X_num, X_str)), columns=[*atributos_numericos, *atributos_string])\n",
    "\n",
    "# Colunas Age e Embarked recebem os novos valores imputados\n",
    "X['Age'] = X_imputed['Age']\n",
    "X['Embarked'] = X_imputed['Embarked']\n",
    "X"
   ]
  },
  {
   "cell_type": "markdown",
   "id": "d22dc129-7d0e-4a48-b351-2c565b00987e",
   "metadata": {},
   "source": [
    "### 2 - Conversão dos atributos catégoricos para numéricos. \n",
    "Após realizar a imputação nos dados faltantes, foi feito uma conversão de atributos categóricos para atributos numéricos."
   ]
  },
  {
   "cell_type": "code",
   "execution_count": 6,
   "id": "3fdf2d4d-4ce1-490a-bf15-19e450792f91",
   "metadata": {},
   "outputs": [
    {
     "data": {
      "text/plain": [
       "array([[2.0, 1.0, 3, 22.0, 1, 0],\n",
       "       [0.0, 0.0, 1, 38.0, 1, 0],\n",
       "       [2.0, 0.0, 3, 26.0, 0, 0],\n",
       "       ...,\n",
       "       [2.0, 0.0, 3, 24.0, 1, 2],\n",
       "       [0.0, 1.0, 1, 26.0, 0, 0],\n",
       "       [1.0, 1.0, 3, 32.0, 0, 0]], dtype=object)"
      ]
     },
     "execution_count": 6,
     "metadata": {},
     "output_type": "execute_result"
    }
   ],
   "source": [
    "transformers = [\n",
    "    ('oe_embarked', OrdinalEncoder(), ['Embarked']),\n",
    "    ('oe_sex', OrdinalEncoder(), ['Sex']),\n",
    "]\n",
    "\n",
    "# ct = Column Transformer\n",
    "ct = ColumnTransformer(transformers, remainder='passthrough')\n",
    "\n",
    "X_oe = ct.fit_transform(X)\n",
    "X_oe"
   ]
  },
  {
   "cell_type": "markdown",
   "id": "f7770ac8-4337-4caa-b240-4ab4ea8ea715",
   "metadata": {},
   "source": [
    "### 3 - Explorando a base de dados.\n",
    "Como podemos observar no primeiro item (Limpeza de dados), optei por remover do <em>dataframe</em> os atributos que não serão utilizados no classificador, são eles: Name, PassengerId, Ticket, Cabin e Fare."
   ]
  },
  {
   "cell_type": "markdown",
   "id": "043116bc-2bcf-425e-8352-b8c36a8770c5",
   "metadata": {},
   "source": [
    "### 4 - Normalização dos dados.\n",
    "Agora neste passo foi feito a normalização dos dados, podendo notar logo abaixo que os valores máximo e mínimo variam de 147 a 0, normalizando estes dados temos uma diferença muito menor, variando entre 3.89 e -3.63 aproximadamente."
   ]
  },
  {
   "cell_type": "code",
   "execution_count": 7,
   "id": "170c13f8-3d13-4067-baab-7979adaa890e",
   "metadata": {},
   "outputs": [
    {
     "data": {
      "text/plain": [
       "(80.0, 0.0)"
      ]
     },
     "execution_count": 7,
     "metadata": {},
     "output_type": "execute_result"
    }
   ],
   "source": [
    "np.max(X_oe), np.min(X_oe)"
   ]
  },
  {
   "cell_type": "code",
   "execution_count": 8,
   "id": "a10bb033-ca7f-4ac7-805d-e18fe18cf366",
   "metadata": {},
   "outputs": [
    {
     "data": {
      "text/plain": [
       "(6.974147318082627, -2.1336130184751134)"
      ]
     },
     "execution_count": 8,
     "metadata": {},
     "output_type": "execute_result"
    }
   ],
   "source": [
    "# Realiza a normalização z-score nos atributos\n",
    "ss = StandardScaler()  \n",
    "ss.fit(X_oe)              \n",
    "X_ss = ss.transform(X_oe) \n",
    "np.max(X_ss), np.min(X_ss)"
   ]
  },
  {
   "cell_type": "code",
   "execution_count": 9,
   "id": "ba53568b-0727-48c4-a5d9-2dc0acea50c9",
   "metadata": {},
   "outputs": [
    {
     "data": {
      "text/html": [
       "<div>\n",
       "<style scoped>\n",
       "    .dataframe tbody tr th:only-of-type {\n",
       "        vertical-align: middle;\n",
       "    }\n",
       "\n",
       "    .dataframe tbody tr th {\n",
       "        vertical-align: top;\n",
       "    }\n",
       "\n",
       "    .dataframe thead th {\n",
       "        text-align: right;\n",
       "    }\n",
       "</style>\n",
       "<table border=\"1\" class=\"dataframe\">\n",
       "  <thead>\n",
       "    <tr style=\"text-align: right;\">\n",
       "      <th></th>\n",
       "      <th>Embarked</th>\n",
       "      <th>Sex</th>\n",
       "      <th>Pclass</th>\n",
       "      <th>Age</th>\n",
       "      <th>SibSp</th>\n",
       "      <th>Parch</th>\n",
       "    </tr>\n",
       "  </thead>\n",
       "  <tbody>\n",
       "    <tr>\n",
       "      <th>0</th>\n",
       "      <td>0.585954</td>\n",
       "      <td>0.737695</td>\n",
       "      <td>0.827377</td>\n",
       "      <td>-0.497793</td>\n",
       "      <td>0.432793</td>\n",
       "      <td>-0.473674</td>\n",
       "    </tr>\n",
       "    <tr>\n",
       "      <th>1</th>\n",
       "      <td>-1.942303</td>\n",
       "      <td>-1.355574</td>\n",
       "      <td>-1.566107</td>\n",
       "      <td>0.715048</td>\n",
       "      <td>0.432793</td>\n",
       "      <td>-0.473674</td>\n",
       "    </tr>\n",
       "    <tr>\n",
       "      <th>2</th>\n",
       "      <td>0.585954</td>\n",
       "      <td>-1.355574</td>\n",
       "      <td>0.827377</td>\n",
       "      <td>-0.194583</td>\n",
       "      <td>-0.474545</td>\n",
       "      <td>-0.473674</td>\n",
       "    </tr>\n",
       "    <tr>\n",
       "      <th>3</th>\n",
       "      <td>0.585954</td>\n",
       "      <td>-1.355574</td>\n",
       "      <td>-1.566107</td>\n",
       "      <td>0.487640</td>\n",
       "      <td>0.432793</td>\n",
       "      <td>-0.473674</td>\n",
       "    </tr>\n",
       "    <tr>\n",
       "      <th>4</th>\n",
       "      <td>0.585954</td>\n",
       "      <td>0.737695</td>\n",
       "      <td>0.827377</td>\n",
       "      <td>0.487640</td>\n",
       "      <td>-0.474545</td>\n",
       "      <td>-0.473674</td>\n",
       "    </tr>\n",
       "    <tr>\n",
       "      <th>...</th>\n",
       "      <td>...</td>\n",
       "      <td>...</td>\n",
       "      <td>...</td>\n",
       "      <td>...</td>\n",
       "      <td>...</td>\n",
       "      <td>...</td>\n",
       "    </tr>\n",
       "    <tr>\n",
       "      <th>886</th>\n",
       "      <td>0.585954</td>\n",
       "      <td>0.737695</td>\n",
       "      <td>-0.369365</td>\n",
       "      <td>-0.118780</td>\n",
       "      <td>-0.474545</td>\n",
       "      <td>-0.473674</td>\n",
       "    </tr>\n",
       "    <tr>\n",
       "      <th>887</th>\n",
       "      <td>0.585954</td>\n",
       "      <td>-1.355574</td>\n",
       "      <td>-1.566107</td>\n",
       "      <td>-0.725201</td>\n",
       "      <td>-0.474545</td>\n",
       "      <td>-0.473674</td>\n",
       "    </tr>\n",
       "    <tr>\n",
       "      <th>888</th>\n",
       "      <td>0.585954</td>\n",
       "      <td>-1.355574</td>\n",
       "      <td>0.827377</td>\n",
       "      <td>-0.346188</td>\n",
       "      <td>0.432793</td>\n",
       "      <td>2.008933</td>\n",
       "    </tr>\n",
       "    <tr>\n",
       "      <th>889</th>\n",
       "      <td>-1.942303</td>\n",
       "      <td>0.737695</td>\n",
       "      <td>-1.566107</td>\n",
       "      <td>-0.194583</td>\n",
       "      <td>-0.474545</td>\n",
       "      <td>-0.473674</td>\n",
       "    </tr>\n",
       "    <tr>\n",
       "      <th>890</th>\n",
       "      <td>-0.678175</td>\n",
       "      <td>0.737695</td>\n",
       "      <td>0.827377</td>\n",
       "      <td>0.260233</td>\n",
       "      <td>-0.474545</td>\n",
       "      <td>-0.473674</td>\n",
       "    </tr>\n",
       "  </tbody>\n",
       "</table>\n",
       "<p>891 rows × 6 columns</p>\n",
       "</div>"
      ],
      "text/plain": [
       "     Embarked       Sex    Pclass       Age     SibSp     Parch\n",
       "0    0.585954  0.737695  0.827377 -0.497793  0.432793 -0.473674\n",
       "1   -1.942303 -1.355574 -1.566107  0.715048  0.432793 -0.473674\n",
       "2    0.585954 -1.355574  0.827377 -0.194583 -0.474545 -0.473674\n",
       "3    0.585954 -1.355574 -1.566107  0.487640  0.432793 -0.473674\n",
       "4    0.585954  0.737695  0.827377  0.487640 -0.474545 -0.473674\n",
       "..        ...       ...       ...       ...       ...       ...\n",
       "886  0.585954  0.737695 -0.369365 -0.118780 -0.474545 -0.473674\n",
       "887  0.585954 -1.355574 -1.566107 -0.725201 -0.474545 -0.473674\n",
       "888  0.585954 -1.355574  0.827377 -0.346188  0.432793  2.008933\n",
       "889 -1.942303  0.737695 -1.566107 -0.194583 -0.474545 -0.473674\n",
       "890 -0.678175  0.737695  0.827377  0.260233 -0.474545 -0.473674\n",
       "\n",
       "[891 rows x 6 columns]"
      ]
     },
     "execution_count": 9,
     "metadata": {},
     "output_type": "execute_result"
    }
   ],
   "source": [
    "X_ss_norm = pd.DataFrame(X_ss, columns = ['Embarked', 'Sex', 'Pclass', 'Age', 'SibSp', 'Parch'])\n",
    "X_ss_norm"
   ]
  },
  {
   "cell_type": "markdown",
   "id": "bebdf3f3-6a7e-4049-868e-4d0b00630226",
   "metadata": {},
   "source": [
    "### 5 - Visualização do espaço das características utilizando PCA.\n",
    "Com o <em>dataframe</em> X, contendo os atributos que iremos utilizar no classificador, foram feito combinações lineares para poder chegar em duas características por meio do PCA, sendo as características: PC0 e PC1 (nos eixos X e Y respectivamente)."
   ]
  },
  {
   "cell_type": "code",
   "execution_count": 10,
   "id": "e9ba3da8-bf57-4b2a-a082-0930b8529a42",
   "metadata": {},
   "outputs": [
    {
     "data": {
      "text/plain": [
       "<AxesSubplot:xlabel='PC 0', ylabel='PC 1'>"
      ]
     },
     "execution_count": 10,
     "metadata": {},
     "output_type": "execute_result"
    },
    {
     "data": {
      "image/png": "[encoded data removed]",
      "text/plain": [
       "<Figure size 432x288 with 1 Axes>"
      ]
     },
     "metadata": {
      "needs_background": "light"
     },
     "output_type": "display_data"
    }
   ],
   "source": [
    "#calcula o PCA com os atributos normalizados\n",
    "pca_ss = PCA(n_components=2)\n",
    "pca_ss.fit(X_ss)\n",
    "X_ss_pca = pca_ss.transform(X_ss)\n",
    "X_ss_pca_df = pd.DataFrame(X_ss_pca, columns=['PC 0', 'PC 1'])\n",
    "\n",
    "sns.scatterplot(data=X_ss_pca_df, x='PC 0', y='PC 1', hue=y, palette='Set1')"
   ]
  },
  {
   "cell_type": "markdown",
   "id": "c189a54b-3c97-4231-a61d-9955de4e5e25",
   "metadata": {},
   "source": [
    "### 6 - Classificadores KNN, SVM, Árvores de Decisão e Random Forest, com hiperparâmetros selecionados usando o processo de validação cruzada.\n",
    "Escolhi três classificadores diferentes: KNN, SVM e Árvores de Decisão. Os hiperparâmetros selecionados utilizando o processo de validação cruzada se encontra no arquivo \"utils.py\", contendo a função para selecionar os melhores parâmetros e em seguida a função do classificador, para cada classificador."
   ]
  },
  {
   "cell_type": "code",
   "execution_count": 11,
   "id": "b7854d06-ad65-4652-b981-5964cfe2113d",
   "metadata": {},
   "outputs": [
    {
     "data": {
      "application/vnd.jupyter.widget-view+json": {
       "model_id": "010a07d7c3a74f619b204907d5f83f65",
       "version_major": 2,
       "version_minor": 0
      },
      "text/plain": [
       "Folds avaliados:   0%|          | 0/10 [00:00<?, ?it/s]"
      ]
     },
     "metadata": {},
     "output_type": "display_data"
    },
    {
     "name": "stdout",
     "output_type": "stream",
     "text": [
      "acurácia - min: 0.62, max: 0.83, avg +- std: 0.73+-0.06\n"
     ]
    }
   ],
   "source": [
    "# KNN\n",
    "accs_knn = do_cv_knn(X_ss_norm.values, y, 10, range(1, 30, 2))\n",
    "print(\"acurácia - min: %.2f, max: %.2f, avg +- std: %.2f+-%.2f\" % (min(accs_knn), max(accs_knn), np.mean(accs_knn), np.std(accs_knn)))"
   ]
  },
  {
   "cell_type": "code",
   "execution_count": 12,
   "id": "9f53a5fc-b23b-40e2-ac75-9748ef192729",
   "metadata": {},
   "outputs": [
    {
     "data": {
      "application/vnd.jupyter.widget-view+json": {
       "model_id": "4536d89449ce49d1b288a9f46f74f299",
       "version_major": 2,
       "version_minor": 0
      },
      "text/plain": [
       "Folds avaliados:   0%|          | 0/10 [00:00<?, ?it/s]"
      ]
     },
     "metadata": {},
     "output_type": "display_data"
    },
    {
     "name": "stdout",
     "output_type": "stream",
     "text": [
      "acurácia - min: 0.62, max: 0.85, avg +- std: 0.73+-0.06\n"
     ]
    }
   ],
   "source": [
    "# SVM\n",
    "accs_svm = do_cv_svm(X_ss_norm.values, y, 10, Cs=[1, 10, 100, 1000], gammas=['scale', 'auto', 2e-1, 2e-2, 2e-3, 2e-4])\n",
    "print(\"acurácia - min: %.2f, max: %.2f, avg +- std: %.2f+-%.2f\" % (min(accs_svm), max(accs_svm), np.mean(accs_svm), np.std(accs_svm)))"
   ]
  },
  {
   "cell_type": "code",
   "execution_count": 13,
   "id": "d931fb84-3f9a-4109-b04d-2928c2767284",
   "metadata": {},
   "outputs": [
    {
     "data": {
      "application/vnd.jupyter.widget-view+json": {
       "model_id": "fb33300140ad46c5ba2194726f141272",
       "version_major": 2,
       "version_minor": 0
      },
      "text/plain": [
       "Folds avaliados:   0%|          | 0/10 [00:00<?, ?it/s]"
      ]
     },
     "metadata": {},
     "output_type": "display_data"
    },
    {
     "name": "stdout",
     "output_type": "stream",
     "text": [
      "acurácia - min: 0.57, max: 0.82, avg +- std: 0.70+-0.07\n"
     ]
    }
   ],
   "source": [
    "# Árvores de Decisão\n",
    "accs_ad = do_cv_ad(X_ss_norm.values, y, 10, param_cv_folds=10)\n",
    "print(\"acurácia - min: %.2f, max: %.2f, avg +- std: %.2f+-%.2f\" % (min(accs_ad), max(accs_ad), np.mean(accs_ad), np.std(accs_ad)))"
   ]
  },
  {
   "cell_type": "markdown",
   "id": "1d42e339-c6ce-4e49-addf-c084fffa281c",
   "metadata": {},
   "source": [
    "### 7 - Processo de validação cruzada de dois níveis.\n",
    "Este processo de validação cruzada de dois níveis se encontra também no arquivo \"utils.py\", e nela, teremos a validação cruzada dos \"k1\" particionamentos, e nos \"k2\" particionamentos teremos a validação cruzada para avaliar cada combinação do conjunto de treinamento atual, para isto utilizamos o GridSearchCV para fazer uma busca exaustiva, otimizando os hiperparâmetros."
   ]
  },
  {
   "cell_type": "code",
   "execution_count": 14,
   "id": "69181eb7-c9be-460c-9421-8b8ff8bba87c",
   "metadata": {},
   "outputs": [
    {
     "data": {
      "application/vnd.jupyter.widget-view+json": {
       "model_id": "a2e2e7d7a45a4baabd827481a9616b1c",
       "version_major": 2,
       "version_minor": 0
      },
      "text/plain": [
       "Folds avaliados:   0%|          | 0/10 [00:00<?, ?it/s]"
      ]
     },
     "metadata": {},
     "output_type": "display_data"
    },
    {
     "name": "stdout",
     "output_type": "stream",
     "text": [
      "min: 0.62, max: 0.85, avg +- std: 0.74+-0.07\n"
     ]
    }
   ],
   "source": [
    "accs_dupla_cv = dupla_cv(X_ss_norm.values, y, 10, 10, range(1, 30, 2))\n",
    "print(\"min: %.2f, max: %.2f, avg +- std: %.2f+-%.2f\" % (min(accs_dupla_cv), max(accs_dupla_cv), np.mean(accs_dupla_cv), np.std(accs_dupla_cv)))"
   ]
  },
  {
   "cell_type": "markdown",
   "id": "9fd80a46-d5e0-4b86-864d-09ed067bd5c8",
   "metadata": {},
   "source": [
    "### 8 - Selecione o melhor modelo gerado usando análise estatística do desempenho obtido pelos classificadores durante a validação cruzada.\n",
    "Selecionei os modelos KNN e SVM, para poder calcular as estatísticas de cada um e gerar o \"pvalor\". Com o \"pvalor\", poderemos analisar se os resultados das estastísticas são semelhantes ou diferentes, neste caso, como o valor é superior a 0.05 (5%), então pode-se concluir que os resultados do KNN e SVM são semelhantes estatísticamente."
   ]
  },
  {
   "cell_type": "code",
   "execution_count": 15,
   "id": "c6a12d2b-32fa-48e8-8617-4f9e3a1317da",
   "metadata": {},
   "outputs": [
    {
     "data": {
      "text/plain": [
       "0.9381155631630475"
      ]
     },
     "execution_count": 15,
     "metadata": {},
     "output_type": "execute_result"
    }
   ],
   "source": [
    "def calcular_estatisticas(resultados):\n",
    "    return np.mean(resultados), np.std(resultados), np.min(resultados), np.max(resultados)\n",
    "\n",
    "from scipy.stats import ttest_ind_from_stats\n",
    "\n",
    "media_knn, std_knn, _, _ = calcular_estatisticas(accs_knn)\n",
    "media_svm, std_svm, _, _ = calcular_estatisticas(accs_svm)\n",
    "_, pvalor = ttest_ind_from_stats(media_knn, std_knn, len(accs_knn), media_svm, std_svm, len(accs_svm))\n",
    "pvalor"
   ]
  },
  {
   "cell_type": "markdown",
   "id": "52ce87d9-f46a-414f-ae5e-024b824d4010",
   "metadata": {},
   "source": [
    "### 9 - Resultados da classificação com todos os modelos.\n",
    "Por fim temos o cálculo da precisão, <em>recall</em> e f1-score, tudo na mesma tabela, utilizando a função \"classification_report\"."
   ]
  },
  {
   "cell_type": "code",
   "execution_count": 16,
   "id": "17771004-1dfb-406b-9065-8c4016e71c4c",
   "metadata": {},
   "outputs": [
    {
     "name": "stdout",
     "output_type": "stream",
     "text": [
      "              precision    recall  f1-score   support\n",
      "\n",
      "           0       0.87      0.90      0.88       110\n",
      "           1       0.83      0.78      0.81        69\n",
      "\n",
      "    accuracy                           0.85       179\n",
      "   macro avg       0.85      0.84      0.84       179\n",
      "weighted avg       0.85      0.85      0.85       179\n",
      "\n"
     ]
    }
   ],
   "source": [
    "X_train, X_test, y_train, y_test = train_test_split(X_ss_norm, y, test_size=0.2, shuffle=True, stratify=y, random_state=1)\n",
    "knn = KNeighborsClassifier(n_neighbors=3)\n",
    "knn.fit(X_train, y_train)\n",
    "pred = knn.predict(X_test)\n",
    "\n",
    "print(classification_report(y_test, pred))"
   ]
  }
 ],
 "metadata": {
  "kernelspec": {
   "display_name": "Python 3",
   "language": "python",
   "name": "python3"
  },
  "language_info": {
   "codemirror_mode": {
    "name": "ipython",
    "version": 3
   },
   "file_extension": ".py",
   "mimetype": "text/x-python",
   "name": "python",
   "nbconvert_exporter": "python",
   "pygments_lexer": "ipython3",
   "version": "3.8.8"
  }
 },
 "nbformat": 4,
 "nbformat_minor": 5
}
